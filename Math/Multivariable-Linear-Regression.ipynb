{
 "cells": [
  {
   "cell_type": "markdown",
   "id": "10517d00",
   "metadata": {},
   "source": [
    "Multivariable Linear Regression (Multiple Features)"
   ]
  },
  {
   "cell_type": "code",
   "execution_count": 1,
   "id": "961f746a",
   "metadata": {},
   "outputs": [
    {
     "name": "stdout",
     "output_type": "stream",
     "text": [
      "Intercept: 5.229006511235561\n",
      "Coefficients: [2.91474009 2.00591501]\n",
      "MSE: 3.3836656470667865\n",
      "Gradient Descent Result: [4.86494783 2.94759884 2.03642818]\n"
     ]
    }
   ],
   "source": [
    "# ========================================\n",
    "# Import Libraries\n",
    "# ========================================\n",
    "import numpy as np\n",
    "import matplotlib.pyplot as plt\n",
    "from sklearn.linear_model import LinearRegression\n",
    "from sklearn.metrics import mean_squared_error\n",
    "\n",
    "# ========================================\n",
    "# PART 1: Create Synthetic Data (Multiple Features)\n",
    "# y = 3*x1 + 2*x2 + 5 + noise\n",
    "np.random.seed(0)\n",
    "X = np.random.rand(100, 2) * 10  # 100 samples, 2 features\n",
    "y = 3*X[:,0] + 2*X[:,1] + 5 + np.random.normal(0, 2, 100)\n",
    "\n",
    "# ========================================\n",
    "# PART 2: Fit Linear Regression (scikit-learn)\n",
    "# ========================================\n",
    "model = LinearRegression()\n",
    "model.fit(X, y)\n",
    "\n",
    "y_pred = model.predict(X)\n",
    "print(\"Intercept:\", model.intercept_)\n",
    "print(\"Coefficients:\", model.coef_)\n",
    "print(\"MSE:\", mean_squared_error(y, y_pred))\n",
    "\n",
    "# ========================================\n",
    "# PART 3: Manual Gradient Descent (Vectorized)\n",
    "# ========================================\n",
    "# Add bias term\n",
    "X_b = np.c_[np.ones((100,1)), X]  # shape (100,3)\n",
    "theta = np.zeros(3)  # initial parameters [b0, b1, b2]\n",
    "lr = 0.01\n",
    "epochs = 1000\n",
    "n = len(y)\n",
    "\n",
    "for i in range(epochs):\n",
    "    gradients = (2/n) * X_b.T.dot(X_b.dot(theta) - y)\n",
    "    theta -= lr * gradients\n",
    "\n",
    "print(\"Gradient Descent Result:\", theta)\n"
   ]
  }
 ],
 "metadata": {
  "kernelspec": {
   "display_name": "Python 3",
   "language": "python",
   "name": "python3"
  },
  "language_info": {
   "codemirror_mode": {
    "name": "ipython",
    "version": 3
   },
   "file_extension": ".py",
   "mimetype": "text/x-python",
   "name": "python",
   "nbconvert_exporter": "python",
   "pygments_lexer": "ipython3",
   "version": "3.11.9"
  }
 },
 "nbformat": 4,
 "nbformat_minor": 5
}
